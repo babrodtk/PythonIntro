{
 "cells": [
  {
   "cell_type": "markdown",
   "metadata": {},
   "source": [
    "# Hello world - printing stuff"
   ]
  },
  {
   "cell_type": "code",
   "execution_count": 1,
   "metadata": {},
   "outputs": [
    {
     "name": "stdout",
     "output_type": "stream",
     "text": [
      "Hello world 3.123456789\n",
      "Float formating 3.12346\n",
      "Float formating 3.123\n"
     ]
    }
   ],
   "source": [
    "a = 3.123456789\n",
    "\n",
    "print(\"Hello world \" + str(a))\n",
    "print(\"Float formating {:.5f}\".format(a))\n",
    "print(\"Float formating %.3f\" % a)"
   ]
  },
  {
   "cell_type": "markdown",
   "metadata": {},
   "source": [
    "# Common problems\n",
    "\n",
    "Python uses whitespace indentation for code blocks. The following will fail because of the leading space"
   ]
  },
  {
   "cell_type": "code",
   "execution_count": 2,
   "metadata": {},
   "outputs": [
    {
     "ename": "IndentationError",
     "evalue": "unexpected indent (<ipython-input-2-02ae6349b6c6>, line 2)",
     "output_type": "error",
     "traceback": [
      "\u001b[1;36m  File \u001b[1;32m\"<ipython-input-2-02ae6349b6c6>\"\u001b[1;36m, line \u001b[1;32m2\u001b[0m\n\u001b[1;33m    print(\"This fails because of leading space\")\u001b[0m\n\u001b[1;37m    ^\u001b[0m\n\u001b[1;31mIndentationError\u001b[0m\u001b[1;31m:\u001b[0m unexpected indent\n"
     ]
    }
   ],
   "source": [
    "print(\"Hello again!\")\n",
    " print(\"This fails because of leading space\")"
   ]
  },
  {
   "cell_type": "markdown",
   "metadata": {},
   "source": [
    "# Variable types"
   ]
  },
  {
   "cell_type": "code",
   "execution_count": null,
   "metadata": {},
   "outputs": [],
   "source": [
    "my_list = [2, 3, 4]\n",
    "\n",
    "my_list.append(5)\n",
    "my_list = my_list + [6]\n",
    "\n",
    "print(my_list)"
   ]
  },
  {
   "cell_type": "markdown",
   "metadata": {},
   "source": [
    "Notice that we use colon + indentation for the code block "
   ]
  },
  {
   "cell_type": "code",
   "execution_count": null,
   "metadata": {},
   "outputs": [],
   "source": [
    "#Looping over list\n",
    "for item in my_list:\n",
    "    print(item)"
   ]
  },
  {
   "cell_type": "code",
   "execution_count": null,
   "metadata": {},
   "outputs": [],
   "source": [
    "my_dict = {\n",
    "    'apples': 21,\n",
    "    'tomatoes': 14,\n",
    "    'pears': 3\n",
    "}\n",
    "\n",
    "print(my_dict)"
   ]
  },
  {
   "cell_type": "code",
   "execution_count": null,
   "metadata": {},
   "outputs": [],
   "source": [
    "# Looping over dict\n",
    "for key, value in my_dict.items():\n",
    "    print(key + \" - \" + str(value))"
   ]
  },
  {
   "cell_type": "markdown",
   "metadata": {},
   "source": [
    "# Looping - ranges and while loops"
   ]
  },
  {
   "cell_type": "code",
   "execution_count": null,
   "metadata": {},
   "outputs": [],
   "source": [
    "for i in range(5):\n",
    "    print(i)\n",
    "print(\"Done!\")"
   ]
  },
  {
   "cell_type": "code",
   "execution_count": null,
   "metadata": {},
   "outputs": [],
   "source": [
    "for i in range(5, 10):\n",
    "    print(i)\n",
    "print(\"Done!\")"
   ]
  },
  {
   "cell_type": "code",
   "execution_count": null,
   "metadata": {},
   "outputs": [],
   "source": [
    "i = 1\n",
    "while (i < 50):\n",
    "    print(i)\n",
    "    i = i*(i+1)\n",
    "print(\"Done\")"
   ]
  },
  {
   "cell_type": "markdown",
   "metadata": {},
   "source": [
    "# Functions"
   ]
  },
  {
   "cell_type": "markdown",
   "metadata": {},
   "source": [
    "Notice that we use colon + indentation for the code block!"
   ]
  },
  {
   "cell_type": "code",
   "execution_count": 3,
   "metadata": {},
   "outputs": [],
   "source": [
    "def factorial(k):\n",
    "    \"\"\"\n",
    "    Python documentation goes here for the factorial function.\n",
    "    \"\"\"\n",
    "    if (k <= 1):\n",
    "        return 1\n",
    "    else:\n",
    "        return k*factorial(k-1)\n",
    "\n",
    "def nchoosek(n, k):\n",
    "    \"\"\"\n",
    "    Python documentation goes here for the nchoosek function.\n",
    "    \"\"\"\n",
    "    return factorial(n) / (factorial(k) * (factorial(n-k)))"
   ]
  },
  {
   "cell_type": "code",
   "execution_count": 4,
   "metadata": {},
   "outputs": [
    {
     "name": "stdout",
     "output_type": "stream",
     "text": [
      "Pascals triangle:\n",
      "1.0 \n",
      "1.0 1.0 \n",
      "1.0 2.0 1.0 \n",
      "1.0 3.0 3.0 1.0 \n",
      "1.0 4.0 6.0 4.0 1.0 \n",
      "1.0 5.0 10.0 10.0 5.0 1.0 \n",
      "1.0 6.0 15.0 20.0 15.0 6.0 1.0 \n"
     ]
    }
   ],
   "source": [
    "max_n = 6\n",
    "print(\"Pascals triangle:\")\n",
    "for n in range(max_n+1):\n",
    "    for k in range(n+1):\n",
    "        #Notice: No newline here, uses space instead\n",
    "        print(nchoosek(n, k), end=\" \")\n",
    "        \n",
    "    # Newline printed here\n",
    "    print(\"\")"
   ]
  },
  {
   "cell_type": "markdown",
   "metadata": {},
   "source": [
    "# Accessing documentation"
   ]
  },
  {
   "cell_type": "code",
   "execution_count": 5,
   "metadata": {},
   "outputs": [],
   "source": [
    "# Popup a bit of info about factorial function\n",
    "factorial?"
   ]
  },
  {
   "cell_type": "code",
   "execution_count": 6,
   "metadata": {},
   "outputs": [],
   "source": [
    "# Popup source for factorial function\n",
    "factorial??"
   ]
  },
  {
   "cell_type": "code",
   "execution_count": 7,
   "metadata": {},
   "outputs": [],
   "source": [
    "# Also works for builtin functions\n",
    "range?"
   ]
  },
  {
   "cell_type": "markdown",
   "metadata": {},
   "source": [
    "# Writing documentation\n",
    "\n",
    "Jupyter notebooks support markdown (double click this cell to see the source code)\n",
    "\n",
    "* Lists\n",
    "* are written\n",
    "* like this\n",
    "\n",
    "\n",
    "1. Ordered lists are \n",
    "2. written like\n",
    "3. so\n",
    "\n",
    "\n",
    "We can also add $\\LaTeX$:\n",
    "\n",
    "\n",
    "$$\n",
    "i = \\sqrt{-1} \n",
    "$$\n",
    "\n",
    "\n",
    "More information can be found on \n",
    "https://jupyter-notebook.readthedocs.io/en/stable/examples/Notebook/Working%20With%20Markdown%20Cells.html"
   ]
  },
  {
   "cell_type": "markdown",
   "metadata": {},
   "source": [
    "# Cell based execution\n",
    "\n",
    "Jupyter notebooks are cell-based. They offer a [REPL](https://en.wikipedia.org/wiki/Read%E2%80%93eval%E2%80%93print_loop) environment for Python scripts\n",
    "\n",
    "\n",
    "Every time you execute a cell, the cell contents change the Python state. This can be really confusing at first. \n",
    "\n",
    "\n",
    "Tip: If you have a messy Python state, you can check your notebook by selecting \"Kernel\" => \"Restart and run all\" from the menu\n",
    "\n",
    "\n",
    "Experiment by running the following cell multiple times. Notice how the execution counter on the left hand side also changes. "
   ]
  },
  {
   "cell_type": "code",
   "execution_count": 8,
   "metadata": {},
   "outputs": [
    {
     "name": "stdout",
     "output_type": "stream",
     "text": [
      "'temp' is not a variable Python knows of (yet)\n",
      "Setting 'temp' to 32\n"
     ]
    }
   ],
   "source": [
    "if (\"temp\" in globals()):\n",
    "    print(\"'temp' is already defined as {:}\".format(temp))\n",
    "    print(\"Making 'temp' a string, and adding '_16' to the end:\")\n",
    "    temp = str(temp) + \"_16\"\n",
    "else:\n",
    "    print(\"'temp' is not a variable Python knows of (yet)\")\n",
    "    print(\"Setting 'temp' to 32\")\n",
    "    temp = 32"
   ]
  },
  {
   "cell_type": "code",
   "execution_count": null,
   "metadata": {},
   "outputs": [],
   "source": []
  }
 ],
 "metadata": {
  "kernelspec": {
   "display_name": "Python 3",
   "language": "python",
   "name": "python3"
  },
  "language_info": {
   "codemirror_mode": {
    "name": "ipython",
    "version": 3
   },
   "file_extension": ".py",
   "mimetype": "text/x-python",
   "name": "python",
   "nbconvert_exporter": "python",
   "pygments_lexer": "ipython3",
   "version": "3.7.1"
  }
 },
 "nbformat": 4,
 "nbformat_minor": 2
}
