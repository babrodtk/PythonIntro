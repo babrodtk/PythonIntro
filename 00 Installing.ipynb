{
 "cells": [
  {
   "cell_type": "markdown",
   "metadata": {},
   "source": [
    "# Introduction to Python and Jupyter notebooks"
   ]
  },
  {
   "cell_type": "markdown",
   "metadata": {},
   "source": [
    "## Installation\n",
    "\n",
    "To make sure that everything works as expected, we recommend that you install the following on your machine\n",
    "\n",
    "### Anaconda\n",
    "\n",
    "1. Download Anaconda for Python 3.7 from https://www.anaconda.com/download/ for your operating system. The vast majority of operating systems use 64 bit. \n",
    "2. Install Anaconda using the installer\n",
    "3. Test your installation\n",
    "    * Open Conda terminal\n",
    "        * Windows: Open \"Anaconda prompt\" from the start menu\n",
    "        * Linux / Mac: Open a terminal \n",
    "    * Check that conda works. In the terminal, enter the command\n",
    "        ```\n",
    "        conda --version\n",
    "        ```\n",
    "        and check that you get something similar to the following output:\n",
    "        ```\n",
    "        (base) C:\\Users\\username>conda --version\n",
    "        conda 4.5.12\n",
    "        ```\n",
    "    * Check that Python works. In the terminal, enter the command\n",
    "        ```\n",
    "        python --version\n",
    "        ```\n",
    "        and check that you get something similar to the following output\n",
    "        ```\n",
    "        (base) C:\\Users\\username>conda --version\n",
    "        Python 3.6.7 :: Anaconda custom (64-bit)\n",
    "        ```\n",
    "        Please note that you should here be seeing Python version 3.6 or 3.7 (*not* 2.7)\n",
    "    \n",
    "\n",
    "### Python packages\n",
    "\n",
    "Install the following packages from the Conda terminal (see \"Test your installation\" above). \n",
    "\n",
    "1. Install often used scientific Python packages with conda. In the terminal, enter the following:\n",
    "    ```\n",
    "    conda install scipy\n",
    "    ```\n",
    "2. Install sobol and sobol-seq with pip. In the terminal, enter the following:\n",
    "    ```\n",
    "    pip install sobol sobol_seq\n",
    "    ```\n",
    "    This should end with something like the following:\n",
    "    ```\n",
    "    Successfully installed sobol-0.9 sobol-seq-0.1.2\n",
    "    ```\n",
    "    \n",
    "    \n",
    "    \n",
    "\n",
    "### Git\n",
    "* Windows: \n",
    "    1. Download Git from https://git-scm.com/downloads \n",
    "    2. Install git using the installer\n",
    "    3. Test your installation \n",
    "        * Open \"git bash\" from the start menu\n",
    "        * Check that git works. In the terminal, enter the command\n",
    "        ```\n",
    "        git --version\n",
    "        ```\n",
    "        and check that you get something similar to the following output:\n",
    "        ```\n",
    "        git version 1.9.5.msysgit.1\n",
    "        ```\n",
    "\n",
    "\n"
   ]
  },
  {
   "cell_type": "code",
   "execution_count": null,
   "metadata": {},
   "outputs": [],
   "source": []
  }
 ],
 "metadata": {
  "kernelspec": {
   "display_name": "Python 3",
   "language": "python",
   "name": "python3"
  },
  "language_info": {
   "codemirror_mode": {
    "name": "ipython",
    "version": 3
   },
   "file_extension": ".py",
   "mimetype": "text/x-python",
   "name": "python",
   "nbconvert_exporter": "python",
   "pygments_lexer": "ipython3",
   "version": "3.7.1"
  }
 },
 "nbformat": 4,
 "nbformat_minor": 2
}
